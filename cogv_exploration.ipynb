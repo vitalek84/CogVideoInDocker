{
 "cells": [
  {
   "cell_type": "code",
   "execution_count": 4,
   "id": "a92a2d41-770d-453a-8ed5-62e0bdda701a",
   "metadata": {},
   "outputs": [],
   "source": [
    "from IPython.display import Video\n",
    "from IPython.display import Image"
   ]
  },
  {
   "cell_type": "code",
   "execution_count": 5,
   "id": "4af88b5b-4e2e-4563-9722-e1360e3e278c",
   "metadata": {},
   "outputs": [],
   "source": [
    "# Video('output_tramp_reptiloid_vodka_01.mp4')\n",
    "# Image(filename='test.png')"
   ]
  },
  {
   "cell_type": "markdown",
   "id": "0f5f7a7a-9378-4710-8b28-31209e2598ca",
   "metadata": {},
   "source": [
    "# Prompot creation \n",
    "\n",
    "For CogVideo it is very important to have detailed and highly descriptive prompts. I used ChatGPT for proper prompt creation.\n",
    "My prompt is the same like in the code of convert_demo.py but adopted for ChatGPT. \n",
    "Here is reference for original code https://github.com/THUDM/CogVideo/blob/6a162073217bd41aa5436f11fc29ff69ef0b8623/inference/convert_demo.py#L24  \n",
    "So my prompt for prompt creation is:\n",
    "```\n",
    "You are part of a team of bots that creates videos. You work with an assistant bot that will draw anything you say in square brackets.\n",
    "\n",
    "For example , outputting \" a beautiful morning in the woods with the sun peaking through the trees \" will trigger your partner bot to output an video of a forest morning , as described. You will be prompted by people looking to create detailed , amazing videos. The way to accomplish this is to take their short prompts and make them extremely detailed and descriptive.\n",
    "There are a few rules to follow:\n",
    "\n",
    "You will only ever output a single video description per user request.\n",
    "\n",
    "When modifications are requested , you should not simply make the description longer . You should refactor the entire description to integrate the suggestions.\n",
    "Other times the user will not want modifications , but instead want a new image . In this case , you should ignore your previous conversation with the user.\n",
    "\n",
    "Video descriptions must have the same num of words as examples below. Extra words will be ignored.\n",
    "\n",
    "Example 1:\n",
    "\n",
    "User ask you: Create an imaginative video descriptive caption or modify an earlier caption for the user input : \" a girl is on the beach\"\n",
    "\n",
    "You as asistant should answer: A radiant woman stands on a deserted beach, arms outstretched, wearing a beige trench coat, white blouse, light blue jeans, and chic boots, against a backdrop of soft sky and sea. Moments later, she is seen mid-twirl, arms exuberant, with the lighting suggesting dawn or dusk. Then, she runs along the beach, her attire complemented by an off-white scarf and black ankle boots, the tranquil sea behind her. Finally, she holds a paper airplane, her pose reflecting joy and freedom, with the ocean's gentle waves and the sky's soft pastel hues enhancing the serene ambiance.\n",
    "\n",
    "Example 2:\n",
    "\n",
    "User ask you: Create an imaginative video descriptive caption or modify an earlier caption for the user input : \" A man jogging on a football field\"\n",
    "\n",
    "You as asistant should answer: A determined man in athletic attire, including a blue long-sleeve shirt, black shorts, and blue socks, jogs around a snow-covered soccer field, showcasing his solitary exercise in a quiet, overcast setting. His long dreadlocks, focused expression, and the serene winter backdrop highlight his dedication to fitness. As he moves, his attire, consisting of a blue sports sweatshirt, black athletic pants, gloves, and sneakers, grips the snowy ground. He is seen running past a chain-link fence enclosing the playground area, with a basketball hoop and children's slide, suggesting a moment of solitary exercise amidst the empty field.\n",
    "\n",
    "Example 3:\n",
    "\n",
    "User ask you: Create an imaginative video descriptive caption or modify an earlier caption for the user input : \" A woman is dancing, HD footage, close-up\"\n",
    "\n",
    "You as asistant should answer: A young woman with her hair in an updo and wearing a teal hoodie stands against a light backdrop, initially looking over her shoulder with a contemplative expression. She then confidently makes a subtle dance move, suggesting rhythm and movement. Next, she appears poised and focused, looking directly at the camera. Her expression shifts to one of introspection as she gazes downward slightly. Finally, she dances with confidence, her left hand over her heart, symbolizing a poignant moment, all while dressed in the same teal hoodie against a plain, light-colored background.\n",
    "```\n"
   ]
  },
  {
   "cell_type": "markdown",
   "id": "ffd5c240-5917-40f8-8612-ab6e34eade8a",
   "metadata": {},
   "source": [
    "# Experiments\n",
    "I decided to test three scenario:\n",
    "1. Very casual and simple -\n",
    "   * **Initial prompt:** Guy is buying beer in supermarket\n",
    "   * **ChatGPT prompt:** A casually dressed man in his late twenties, wearing a gray hoodie and faded jeans, walks down a brightly lit supermarket aisle lined with various bottles and cans of beer. He pauses in front of a well-stocked display, eyes scanning the rows of craft brews and familiar brands. Reaching for a tall amber bottle, he inspects the label thoughtfully, tapping it against his palm. A moment later, he drops it into his shopping basket with a clink, which already holds a few snack items. The overhead lights reflect off the glass as he continues down the aisle, his expression one of casual decision-making, with the hum of distant conversations and beeping registers creating a familiar backdrop.\n",
    "3. Something that more creative\n",
    "   * **Initial prompt:** The old man in the see couch a big fish and tries to drag it into the boat\n",
    "   * **ChatGPT prompt:** An elderly man with weathered skin and a white beard, dressed in a worn-out fishing vest and faded cap, stands on a small wooden boat rocking gently in the ocean. His hands grip a thick, fraying fishing line, muscles straining as he struggles to pull a massive, glistening fish toward the boat. The fish, shimmering silver with deep blue accents, thrashes wildly, its powerful tail splashing water into the air. The sun casts a golden glow across the scene, reflecting off the old man's determined face. He plants his feet firmly, sweat dripping down his brow, as the boat sways, creaking under the tension. The sea around them is vast and calm, contrasting the intense battle between man and nature, while the horizon stretches endlessly behind him.\n",
    "5. Super surreal thing\n",
    "   * **Initial prompt:** Donald Trump, drink vodka with one reptiloid\n",
    "   * **ChatGPT prompt:** In a luxurious, dimly lit room adorned with ornate gold accents, Donald Trump, wearing a sharp black suit with a red tie, sits at a polished mahogany table. Across from him is a tall reptilian figure, with iridescent green scales, dressed in an elegant black robe. The creature's sharp, golden eyes are fixed on Trump as they each hold crystal-clear vodka shots in small, intricately designed glasses. Trump smiles confidently, raising his glass in a friendly toast while the reptiloid’s clawed hand carefully mirrors the motion. The atmosphere is one of quiet intrigue, with soft classical music playing in the background, as they take a synchronized sip, exchanging subtle glances that hint at an otherworldly understanding.\n",
    "\n",
    "I checked all prompts with https://platform.openai.com/tokenizer and looks like all of them less than 220 tokens. \n",
    "\n",
    "All these prompts I tried with default num_inference_steps (50) and with num_inference_steps = 100\n",
    "\n",
    "All these experiments were launched on THUDM/CogVideoX-5b\n"
   ]
  },
  {
   "cell_type": "code",
   "execution_count": 7,
   "id": "d63cb497-c9a6-4e69-b569-72060f34fa50",
   "metadata": {},
   "outputs": [
    {
     "name": "stdout",
     "output_type": "stream",
     "text": [
      "Loading pipeline components...:  20%|██▌          | 1/5 [00:00<00:01,  2.50it/s]\n",
      "Loading checkpoint shards:   0%|                          | 0/2 [00:00<?, ?it/s]\u001b[A\n",
      "Loading checkpoint shards:  50%|█████████         | 1/2 [00:00<00:00,  9.43it/s]\u001b[A\n",
      "Loading checkpoint shards: 100%|██████████████████| 2/2 [00:00<00:00,  9.40it/s]\u001b[A\n",
      "Loading pipeline components...: 100%|█████████████| 5/5 [00:00<00:00,  6.27it/s]\n",
      "100%|███████████████████████████████████████████| 50/50 [25:43<00:00, 30.86s/it]\n"
     ]
    }
   ],
   "source": [
    "!python3 ./inference/cli_demo.py --prompt \"A casually dressed man in his late twenties, wearing a gray hoodie and faded jeans, walks down a brightly lit supermarket aisle lined with various bottles and cans of beer. He pauses in front of a well-stocked display, eyes scanning the rows of craft brews and familiar brands. Reaching for a tall amber bottle, he inspects the label thoughtfully, tapping it against his palm. A moment later, he drops it into his shopping basket with a clink, which already holds a few snack items. The overhead lights reflect off the glass as he continues down the aisle, his expression one of casual decision-making, with the hum of distant conversations and beeping registers creating a familiar backdrop.\" --output_path buy_beer_50.mp4 "
   ]
  },
  {
   "cell_type": "markdown",
   "id": "0dfa641c-5c83-493f-8838-313ca42261e2",
   "metadata": {},
   "source": [
    "### Initial prompt: Guy is buying beer in supermarket with number of inference steps 50"
   ]
  },
  {
   "cell_type": "code",
   "execution_count": 8,
   "id": "00754a88-7395-4ab6-aaa2-fbf8092b4ee4",
   "metadata": {},
   "outputs": [
    {
     "data": {
      "text/html": [
       "<video src=\"buy_beer_50.mp4\" controls  >\n",
       "      Your browser does not support the <code>video</code> element.\n",
       "    </video>"
      ],
      "text/plain": [
       "<IPython.core.display.Video object>"
      ]
     },
     "execution_count": 8,
     "metadata": {},
     "output_type": "execute_result"
    }
   ],
   "source": [
    "Video('buy_beer_50.mp4')"
   ]
  },
  {
   "cell_type": "code",
   "execution_count": 9,
   "id": "474c5e10-006a-4877-8165-0dd1953d97b1",
   "metadata": {},
   "outputs": [
    {
     "name": "stdout",
     "output_type": "stream",
     "text": [
      "Loading pipeline components...:  60%|███████▊     | 3/5 [00:00<00:00,  6.01it/s]\n",
      "Loading checkpoint shards:   0%|                          | 0/2 [00:00<?, ?it/s]\u001b[A\n",
      "Loading checkpoint shards: 100%|██████████████████| 2/2 [00:00<00:00,  8.47it/s]\u001b[A\n",
      "Loading pipeline components...: 100%|█████████████| 5/5 [00:00<00:00,  6.53it/s]\n",
      "100%|█████████████████████████████████████████| 100/100 [49:41<00:00, 29.81s/it]\n"
     ]
    }
   ],
   "source": [
    "!python3 ./inference/cli_demo.py --prompt \"A casually dressed man in his late twenties, wearing a gray hoodie and faded jeans, walks down a brightly lit supermarket aisle lined with various bottles and cans of beer. He pauses in front of a well-stocked display, eyes scanning the rows of craft brews and familiar brands. Reaching for a tall amber bottle, he inspects the label thoughtfully, tapping it against his palm. A moment later, he drops it into his shopping basket with a clink, which already holds a few snack items. The overhead lights reflect off the glass as he continues down the aisle, his expression one of casual decision-making, with the hum of distant conversations and beeping registers creating a familiar backdrop.\" --output_path buy_beer_100.mp4 --num_inference_steps 100"
   ]
  },
  {
   "cell_type": "markdown",
   "id": "cb2140ed-5c86-457d-b1eb-8a753ca7175c",
   "metadata": {},
   "source": [
    "### Initial prompt: Guy is buying beer in supermarket with number of inference steps 100"
   ]
  },
  {
   "cell_type": "code",
   "execution_count": 10,
   "id": "cafc3797-e808-4b18-b9d0-9cf90d1afc8e",
   "metadata": {},
   "outputs": [
    {
     "data": {
      "text/html": [
       "<video src=\"buy_beer_100.mp4\" controls  >\n",
       "      Your browser does not support the <code>video</code> element.\n",
       "    </video>"
      ],
      "text/plain": [
       "<IPython.core.display.Video object>"
      ]
     },
     "execution_count": 10,
     "metadata": {},
     "output_type": "execute_result"
    }
   ],
   "source": [
    "Video('buy_beer_100.mp4')"
   ]
  },
  {
   "cell_type": "code",
   "execution_count": 11,
   "id": "93a732e0-8c82-4890-a559-f619da7463b1",
   "metadata": {},
   "outputs": [
    {
     "name": "stdout",
     "output_type": "stream",
     "text": [
      "Loading pipeline components...:   0%|                     | 0/5 [00:00<?, ?it/s]\n",
      "Loading checkpoint shards:   0%|                          | 0/2 [00:00<?, ?it/s]\u001b[A\n",
      "Loading checkpoint shards: 100%|██████████████████| 2/2 [00:00<00:00,  9.45it/s]\u001b[A\n",
      "Loading pipeline components...: 100%|█████████████| 5/5 [00:00<00:00,  6.96it/s]\n",
      "100%|███████████████████████████████████████████| 50/50 [24:45<00:00, 29.70s/it]\n"
     ]
    }
   ],
   "source": [
    "!python3 ./inference/cli_demo.py --prompt \"An elderly man with weathered skin and a white beard, dressed in a worn-out fishing vest and faded cap, stands on a small wooden boat rocking gently in the ocean. His hands grip a thick, fraying fishing line, muscles straining as he struggles to pull a massive, glistening fish toward the boat. The fish, shimmering silver with deep blue accents, thrashes wildly, its powerful tail splashing water into the air. The sun casts a golden glow across the scene, reflecting off the old man's determined face. He plants his feet firmly, sweat dripping down his brow, as the boat sways, creaking under the tension. The sea around them is vast and calm, contrasting the intense battle between man and nature, while the horizon stretches endlessly behind him\" --output_path old_man_50.mp4"
   ]
  },
  {
   "cell_type": "markdown",
   "id": "1de3460b-93fd-4200-9df3-4932220326c4",
   "metadata": {},
   "source": [
    "### Initial prompt: The old man in the see couch a big fish and tries to drag it into the boat with number of inference steps 50"
   ]
  },
  {
   "cell_type": "code",
   "execution_count": 12,
   "id": "884cac03-ebf1-4fb1-82e6-83621227f09b",
   "metadata": {},
   "outputs": [
    {
     "data": {
      "text/html": [
       "<video src=\"old_man_50.mp4\" controls  >\n",
       "      Your browser does not support the <code>video</code> element.\n",
       "    </video>"
      ],
      "text/plain": [
       "<IPython.core.display.Video object>"
      ]
     },
     "execution_count": 12,
     "metadata": {},
     "output_type": "execute_result"
    }
   ],
   "source": [
    "Video('old_man_50.mp4')"
   ]
  },
  {
   "cell_type": "code",
   "execution_count": 13,
   "id": "bb42e672-8cf1-4d19-9a90-9a0f8b367eb6",
   "metadata": {},
   "outputs": [
    {
     "name": "stdout",
     "output_type": "stream",
     "text": [
      "Loading pipeline components...:   0%|                     | 0/5 [00:00<?, ?it/s]\n",
      "Loading checkpoint shards:   0%|                          | 0/2 [00:00<?, ?it/s]\u001b[A\n",
      "Loading checkpoint shards:  50%|█████████         | 1/2 [00:00<00:00,  9.98it/s]\u001b[A\n",
      "Loading checkpoint shards: 100%|██████████████████| 2/2 [00:00<00:00,  8.70it/s]\u001b[A\n",
      "Loading pipeline components...: 100%|█████████████| 5/5 [00:00<00:00,  6.74it/s]\n",
      "100%|█████████████████████████████████████████| 100/100 [49:05<00:00, 29.45s/it]\n"
     ]
    }
   ],
   "source": [
    "!python3 ./inference/cli_demo.py --prompt \"An elderly man with weathered skin and a white beard, dressed in a worn-out fishing vest and faded cap, stands on a small wooden boat rocking gently in the ocean. His hands grip a thick, fraying fishing line, muscles straining as he struggles to pull a massive, glistening fish toward the boat. The fish, shimmering silver with deep blue accents, thrashes wildly, its powerful tail splashing water into the air. The sun casts a golden glow across the scene, reflecting off the old man's determined face. He plants his feet firmly, sweat dripping down his brow, as the boat sways, creaking under the tension. The sea around them is vast and calm, contrasting the intense battle between man and nature, while the horizon stretches endlessly behind him\" --output_path old_man_100.mp4 --num_inference_steps 100"
   ]
  },
  {
   "cell_type": "markdown",
   "id": "5f150eeb-adfe-40d3-a803-8f2252802a5c",
   "metadata": {},
   "source": [
    "### Initial prompt: The old man in the see couch a big fish and tries to drag it into the boat with number of inference steps 100"
   ]
  },
  {
   "cell_type": "code",
   "execution_count": 14,
   "id": "284cbc0d-750d-4e94-bbe0-7e34a33a535c",
   "metadata": {},
   "outputs": [
    {
     "data": {
      "text/html": [
       "<video src=\"old_man_100.mp4\" controls  >\n",
       "      Your browser does not support the <code>video</code> element.\n",
       "    </video>"
      ],
      "text/plain": [
       "<IPython.core.display.Video object>"
      ]
     },
     "execution_count": 14,
     "metadata": {},
     "output_type": "execute_result"
    }
   ],
   "source": [
    "Video('old_man_100.mp4')"
   ]
  },
  {
   "cell_type": "code",
   "execution_count": 15,
   "id": "7fc19bfa-9eb6-4da9-8635-31d0774d4ff4",
   "metadata": {},
   "outputs": [
    {
     "name": "stdout",
     "output_type": "stream",
     "text": [
      "Loading pipeline components...:   0%|                     | 0/5 [00:00<?, ?it/s]\n",
      "Loading checkpoint shards:   0%|                          | 0/2 [00:00<?, ?it/s]\u001b[A\n",
      "Loading checkpoint shards:  50%|█████████         | 1/2 [00:00<00:00,  9.19it/s]\u001b[A\n",
      "Loading checkpoint shards: 100%|██████████████████| 2/2 [00:00<00:00,  8.26it/s]\u001b[A\n",
      "Loading pipeline components...: 100%|█████████████| 5/5 [00:00<00:00,  6.52it/s]\n",
      "100%|███████████████████████████████████████████| 50/50 [24:34<00:00, 29.50s/it]\n"
     ]
    }
   ],
   "source": [
    "!python3 ./inference/cli_demo.py --prompt \"In a luxurious, dimly lit room adorned with ornate gold accents, Donald Trump, wearing a sharp black suit with a red tie, sits at a polished mahogany table. Across from him is a tall reptilian figure, with iridescent green scales, dressed in an elegant black robe. The creature's sharp, golden eyes are fixed on Trump as they each hold crystal-clear vodka shots in small, intricately designed glasses. Trump smiles confidently, raising his glass in a friendly toast while the reptiloid’s clawed hand carefully mirrors the motion. The atmosphere is one of quiet intrigue, with soft classical music playing in the background, as they take a synchronized sip, exchanging subtle glances that hint at an otherworldly understanding.\" --output_path output_tramp_reptiloid_vodka_02_50.mp4"
   ]
  },
  {
   "cell_type": "markdown",
   "id": "c6487c52-0a78-4ec1-a86b-774cc75f3d80",
   "metadata": {},
   "source": [
    "### Initial prompt: Donald Trump, drink vodka with one reptiloid with number of inference steps 50"
   ]
  },
  {
   "cell_type": "code",
   "execution_count": 16,
   "id": "94c23444-7697-44e8-9260-378d5b52ce3a",
   "metadata": {},
   "outputs": [
    {
     "data": {
      "text/html": [
       "<video src=\"output_tramp_reptiloid_vodka_02_50.mp4\" controls  >\n",
       "      Your browser does not support the <code>video</code> element.\n",
       "    </video>"
      ],
      "text/plain": [
       "<IPython.core.display.Video object>"
      ]
     },
     "execution_count": 16,
     "metadata": {},
     "output_type": "execute_result"
    }
   ],
   "source": [
    "Video('output_tramp_reptiloid_vodka_02_50.mp4')"
   ]
  },
  {
   "cell_type": "code",
   "execution_count": 17,
   "id": "e110be40-9c66-46e4-abd7-b467c389f6dc",
   "metadata": {},
   "outputs": [
    {
     "name": "stdout",
     "output_type": "stream",
     "text": [
      "Loading pipeline components...:   0%|                     | 0/5 [00:00<?, ?it/s]\n",
      "Loading checkpoint shards:   0%|                          | 0/2 [00:00<?, ?it/s]\u001b[A\n",
      "Loading checkpoint shards:  50%|█████████         | 1/2 [00:00<00:00,  8.78it/s]\u001b[A\n",
      "Loading checkpoint shards: 100%|██████████████████| 2/2 [00:00<00:00,  8.36it/s]\u001b[A\n",
      "Loading pipeline components...: 100%|█████████████| 5/5 [00:00<00:00,  6.67it/s]\n",
      "100%|█████████████████████████████████████████| 100/100 [48:55<00:00, 29.36s/it]\n"
     ]
    }
   ],
   "source": [
    "!python3 ./inference/cli_demo.py --prompt \"In a luxurious, dimly lit room adorned with ornate gold accents, Donald Trump, wearing a sharp black suit with a red tie, sits at a polished mahogany table. Across from him is a tall reptilian figure, with iridescent green scales, dressed in an elegant black robe. The creature's sharp, golden eyes are fixed on Trump as they each hold crystal-clear vodka shots in small, intricately designed glasses. Trump smiles confidently, raising his glass in a friendly toast while the reptiloid’s clawed hand carefully mirrors the motion. The atmosphere is one of quiet intrigue, with soft classical music playing in the background, as they take a synchronized sip, exchanging subtle glances that hint at an otherworldly understanding.\" --output_path output_tramp_reptiloid_vodka_02_100.mp4 --num_inference_steps 100"
   ]
  },
  {
   "cell_type": "markdown",
   "id": "200d4bdc-e38e-401a-a617-bf7e70762843",
   "metadata": {},
   "source": [
    "### Initial prompt: Donald Trump, drink vodka with one reptiloid with number of inference steps 100"
   ]
  },
  {
   "cell_type": "code",
   "execution_count": 18,
   "id": "36a4d116-527f-48cf-94a1-474cadbf31eb",
   "metadata": {},
   "outputs": [
    {
     "data": {
      "text/html": [
       "<video src=\"output_tramp_reptiloid_vodka_02_100.mp4\" controls  >\n",
       "      Your browser does not support the <code>video</code> element.\n",
       "    </video>"
      ],
      "text/plain": [
       "<IPython.core.display.Video object>"
      ]
     },
     "execution_count": 18,
     "metadata": {},
     "output_type": "execute_result"
    }
   ],
   "source": [
    "Video('output_tramp_reptiloid_vodka_02_100.mp4')"
   ]
  },
  {
   "cell_type": "code",
   "execution_count": null,
   "id": "d77b1b61-a48c-4901-a903-179f0a60811a",
   "metadata": {},
   "outputs": [],
   "source": []
  }
 ],
 "metadata": {
  "kernelspec": {
   "display_name": "Python 3 (ipykernel)",
   "language": "python",
   "name": "python3"
  },
  "language_info": {
   "codemirror_mode": {
    "name": "ipython",
    "version": 3
   },
   "file_extension": ".py",
   "mimetype": "text/x-python",
   "name": "python",
   "nbconvert_exporter": "python",
   "pygments_lexer": "ipython3",
   "version": "3.12.3"
  }
 },
 "nbformat": 4,
 "nbformat_minor": 5
}
